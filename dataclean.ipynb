{
 "cells": [
  {
   "cell_type": "code",
   "execution_count": null,
   "metadata": {},
   "outputs": [],
   "source": [
    "import pandas as pd\n",
    "import numpy as np"
   ]
  },
  {
   "cell_type": "code",
   "execution_count": null,
   "metadata": {},
   "outputs": [],
   "source": [
    "df = pd.read_csv(\"inputs/Anonymous Project Management 2024 - June Jobs.csv\")\n",
    "rate = pd.read_csv(\"inputs/salary_sheet.csv\")"
   ]
  },
  {
   "cell_type": "code",
   "execution_count": null,
   "metadata": {},
   "outputs": [],
   "source": [
    "df = df[['Client','Assign to','Time']]\n",
    "df = df.rename(columns={'Assign to':'Employee'})"
   ]
  },
  {
   "cell_type": "code",
   "execution_count": null,
   "metadata": {},
   "outputs": [],
   "source": [
    "customer = pd.read_csv(\"inputs/client_sheet.csv\")"
   ]
  },
  {
   "cell_type": "code",
   "execution_count": null,
   "metadata": {},
   "outputs": [],
   "source": [
    "df[\"Time\"].isna().sum()"
   ]
  },
  {
   "cell_type": "code",
   "execution_count": null,
   "metadata": {},
   "outputs": [],
   "source": [
    "df = df.merge(rate)\n",
    "df = df.merge(customer)"
   ]
  },
  {
   "cell_type": "code",
   "execution_count": null,
   "metadata": {},
   "outputs": [],
   "source": [
    "df[\"Time\"].isna().sum()"
   ]
  },
  {
   "cell_type": "code",
   "execution_count": null,
   "metadata": {},
   "outputs": [],
   "source": [
    "\n",
    "df.loc[df['Time'] == 'all day', 'Time'] = '480'\n",
    "\n",
    "df.loc[df['Time'] == 'done earlier', 'Time'] = np.nan\n"
   ]
  },
  {
   "cell_type": "code",
   "execution_count": null,
   "metadata": {},
   "outputs": [],
   "source": [
    "df = df.dropna()\n"
   ]
  },
  {
   "cell_type": "code",
   "execution_count": null,
   "metadata": {},
   "outputs": [],
   "source": [
    "df"
   ]
  },
  {
   "cell_type": "code",
   "execution_count": null,
   "metadata": {},
   "outputs": [],
   "source": [
    "df['Client'] = df['Client'].replace({'Flame and Grill': 'Speciality',\n",
    "                                     'Oh! Calcutta' : 'Speciality',\n",
    "                                     'Cafe Mezzuna' : 'Speciality',\n",
    "                                     'Riyasat':'Speciality',\n",
    "                                     'Flame and Grill': 'Speciality',\n",
    "                                     'Sigree Global Grill' : 'Speciality',\n",
    "                                     'Jungle Safari' : 'Speciality',\n",
    "                                     'Dariole' : 'Speciality',\n",
    "                                     'Haka' : 'Speciality'\n",
    "                                     })"
   ]
  },
  {
   "cell_type": "code",
   "execution_count": null,
   "metadata": {},
   "outputs": [],
   "source": [
    "df"
   ]
  },
  {
   "cell_type": "code",
   "execution_count": null,
   "metadata": {},
   "outputs": [],
   "source": [
    "df.loc[:, 'Time'] = df.loc[:, 'Time'].astype(int)\n",
    "df.loc[:, 'salary'] = df.loc[:, 'salary'].astype(int)\n"
   ]
  },
  {
   "cell_type": "markdown",
   "metadata": {},
   "source": [
    "monthly salary = 22 days = 22\\*24 hrs = 22\\*8\\*60 mins\n"
   ]
  },
  {
   "cell_type": "code",
   "execution_count": null,
   "metadata": {},
   "outputs": [],
   "source": [
    "df.loc[:,\"minute_rate\"] = df[\"salary\"]/(22*8*60)"
   ]
  },
  {
   "cell_type": "code",
   "execution_count": null,
   "metadata": {},
   "outputs": [],
   "source": [
    "df.loc[:,'spend'] = df['Time']*df['minute_rate'] "
   ]
  },
  {
   "cell_type": "code",
   "execution_count": null,
   "metadata": {},
   "outputs": [],
   "source": [
    "pd.set_option('future.no_silent_downcasting', True)\n",
    "df_clientwise = df.pivot_table(index='Client',columns='Employee',values=['spend']).fillna(0)"
   ]
  },
  {
   "cell_type": "code",
   "execution_count": null,
   "metadata": {},
   "outputs": [],
   "source": [
    "df_clientwise['total_spend'] = df_clientwise.sum(axis=1).apply(int)"
   ]
  },
  {
   "cell_type": "markdown",
   "metadata": {},
   "source": [
    "## Flatenning of table"
   ]
  },
  {
   "cell_type": "code",
   "execution_count": null,
   "metadata": {},
   "outputs": [],
   "source": [
    "df_profit = df_clientwise.reset_index()"
   ]
  },
  {
   "cell_type": "code",
   "execution_count": null,
   "metadata": {},
   "outputs": [],
   "source": [
    "df_profit"
   ]
  },
  {
   "cell_type": "code",
   "execution_count": null,
   "metadata": {},
   "outputs": [],
   "source": [
    "df_profit.columns = [''.join(col).strip() if isinstance(col, tuple) else col for col in df_profit.columns]"
   ]
  },
  {
   "cell_type": "code",
   "execution_count": null,
   "metadata": {},
   "outputs": [],
   "source": [
    "df_profit = df_profit.merge(customer)"
   ]
  },
  {
   "cell_type": "code",
   "execution_count": null,
   "metadata": {},
   "outputs": [],
   "source": [
    "df_profit = df_profit[['Client','total_spend','Payment']]"
   ]
  },
  {
   "cell_type": "code",
   "execution_count": null,
   "metadata": {},
   "outputs": [],
   "source": [
    "df_profit['profit'] = df_profit['Payment'] - df_profit['total_spend'] "
   ]
  },
  {
   "cell_type": "code",
   "execution_count": null,
   "metadata": {},
   "outputs": [],
   "source": [
    "df_empwise = df.pivot_table(index='Employee',columns='Client',values=['Time']).fillna(0)\n",
    "df_empwise['Total_time'] = df_empwise.sum(axis=1).apply(int)"
   ]
  },
  {
   "cell_type": "code",
   "execution_count": null,
   "metadata": {},
   "outputs": [],
   "source": [
    "df_empwise = df_empwise.reset_index()\n",
    "df_empwise.columns = [''.join(col).strip() if isinstance(col, tuple) else col for col in df_empwise.columns]"
   ]
  },
  {
   "cell_type": "code",
   "execution_count": null,
   "metadata": {},
   "outputs": [],
   "source": [
    "df_timewise = df.pivot_table(index='Client',columns='Employee',values=['Time']).fillna(0)\n",
    "df_timewise['Total_time_(mins)'] = df_timewise.sum(axis=1).apply(float)\n",
    "df_timewise['Total_time_(hrs)'] = df_timewise.loc[:,\"Total_time_(mins)\"]/60\n",
    "df_timewise = df_timewise.reset_index()\n",
    "df_timewise.columns = [''.join(col).strip() if isinstance(col, tuple) else col for col in df_timewise.columns]"
   ]
  },
  {
   "cell_type": "code",
   "execution_count": null,
   "metadata": {},
   "outputs": [],
   "source": [
    "df_timewise"
   ]
  },
  {
   "cell_type": "code",
   "execution_count": null,
   "metadata": {},
   "outputs": [],
   "source": [
    "df_empwise\n"
   ]
  },
  {
   "cell_type": "code",
   "execution_count": null,
   "metadata": {},
   "outputs": [],
   "source": [
    "df_profit"
   ]
  },
  {
   "cell_type": "code",
   "execution_count": null,
   "metadata": {},
   "outputs": [],
   "source": [
    "df_clientwise"
   ]
  },
  {
   "cell_type": "markdown",
   "metadata": {},
   "source": [
    "### new data\n",
    "- total time spent on each project \n",
    "- total time spent by each employee on each project \n",
    "- total time spent by emp on projects in a month duration\n",
    "- total profit from each project"
   ]
  },
  {
   "cell_type": "markdown",
   "metadata": {},
   "source": []
  }
 ],
 "metadata": {
  "kernelspec": {
   "display_name": ".venv",
   "language": "python",
   "name": "python3"
  },
  "language_info": {
   "codemirror_mode": {
    "name": "ipython",
    "version": 3
   },
   "file_extension": ".py",
   "mimetype": "text/x-python",
   "name": "python",
   "nbconvert_exporter": "python",
   "pygments_lexer": "ipython3",
   "version": "3.12.3"
  }
 },
 "nbformat": 4,
 "nbformat_minor": 2
}
